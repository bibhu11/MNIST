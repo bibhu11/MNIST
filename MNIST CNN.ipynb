{
 "cells": [
  {
   "cell_type": "code",
   "execution_count": 1,
   "metadata": {},
   "outputs": [],
   "source": [
    "from tensorflow.keras.datasets import mnist\n",
    "from tensorflow.keras.models import Sequential\n",
    "from tensorflow.keras.layers import Dense, Dropout, Flatten\n",
    "from tensorflow.keras.layers import Conv2D, MaxPooling2D\n",
    "from tensorflow.keras import backend as K\n",
    "from tensorflow.keras.optimizers import Adam\n",
    "from matplotlib import pyplot as plt\n",
    "import numpy as np\n",
    "import random"
   ]
  },
  {
   "cell_type": "code",
   "execution_count": 2,
   "metadata": {},
   "outputs": [],
   "source": [
    "img_rows, img_cols = 28, 28\n",
    "\n",
    "# The number of training samples per batch. 128 is a reasonable number.\n",
    "batch_size = 128\n",
    "\n",
    "# Our data set contains 10 digits, so the number of classes is 10\n",
    "num_classes = 10\n",
    "\n",
    "# epochs is the number of times the model is trained with the data set, more can be better, up to a point\n",
    "epochs = 20\n",
    "\n",
    "# dropout is a common regularization hyperperameter. It helps to avoid overfitting or memorizing the input.\n",
    "dropout = 0.5"
   ]
  },
  {
   "cell_type": "code",
   "execution_count": 3,
   "metadata": {},
   "outputs": [],
   "source": [
    "(x_train, y_train), (x_test, y_test) = mnist.load_data()\n",
    "\n",
    "original_test = x_test"
   ]
  },
  {
   "cell_type": "code",
   "execution_count": 5,
   "metadata": {},
   "outputs": [
    {
     "data": {
      "image/png": "[encoded data removed]",
      "text/plain": [
       "<Figure size 432x288 with 1 Axes>"
      ]
     },
     "metadata": {
      "needs_background": "light"
     },
     "output_type": "display_data"
    }
   ],
   "source": [
    "index = random.randrange(1000)\n",
    "plt.imshow(original_test[index], cmap='gray')\n",
    "plt.title('Label: %d' % y_test[index])\n",
    "plt.show()"
   ]
  },
  {
   "cell_type": "code",
   "execution_count": 6,
   "metadata": {},
   "outputs": [
    {
     "name": "stdout",
     "output_type": "stream",
     "text": [
      "60000 train samples\n",
      "10000 test samples\n"
     ]
    }
   ],
   "source": [
    "if K.image_data_format() == 'channels_first':\n",
    "    x_train = x_train.reshape(x_train.shape[0], 1, img_rows, img_cols)\n",
    "    x_test = x_test.reshape(x_test.shape[0], 1, img_rows, img_cols)\n",
    "    input_shape = (1, img_rows, img_cols)\n",
    "else:\n",
    "    x_train = x_train.reshape(x_train.shape[0], img_rows, img_cols, 1)\n",
    "    x_test = x_test.reshape(x_test.shape[0], img_rows, img_cols, 1)\n",
    "    input_shape = (img_rows, img_cols, 1)\n",
    "    \n",
    "x_train, x_test = x_train / 255.0, x_test / 255.0\n",
    "\n",
    "print(x_train.shape[0], 'train samples')\n",
    "print(x_test.shape[0], 'test samples')"
   ]
  },
  {
   "cell_type": "code",
   "execution_count": 7,
   "metadata": {},
   "outputs": [
    {
     "name": "stdout",
     "output_type": "stream",
     "text": [
      "Model: \"sequential\"\n",
      "_________________________________________________________________\n",
      "Layer (type)                 Output Shape              Param #   \n",
      "=================================================================\n",
      "conv2d (Conv2D)              (None, 26, 26, 32)        320       \n",
      "_________________________________________________________________\n",
      "conv2d_1 (Conv2D)            (None, 24, 24, 64)        18496     \n",
      "_________________________________________________________________\n",
      "max_pooling2d (MaxPooling2D) (None, 12, 12, 64)        0         \n",
      "_________________________________________________________________\n",
      "dropout (Dropout)            (None, 12, 12, 64)        0         \n",
      "_________________________________________________________________\n",
      "flatten (Flatten)            (None, 9216)              0         \n",
      "_________________________________________________________________\n",
      "dense (Dense)                (None, 128)               1179776   \n",
      "_________________________________________________________________\n",
      "dropout_1 (Dropout)          (None, 128)               0         \n",
      "_________________________________________________________________\n",
      "dense_1 (Dense)              (None, 10)                1290      \n",
      "=================================================================\n",
      "Total params: 1,199,882\n",
      "Trainable params: 1,199,882\n",
      "Non-trainable params: 0\n",
      "_________________________________________________________________\n"
     ]
    }
   ],
   "source": [
    "model = Sequential()\n",
    "model.add(Conv2D(32, kernel_size=(3, 3), activation='relu', input_shape=input_shape))\n",
    "model.add(Conv2D(64, (3, 3), activation='relu'))\n",
    "model.add(MaxPooling2D(pool_size=(2, 2)))\n",
    "model.add(Dropout(dropout/2))\n",
    "model.add(Flatten())\n",
    "model.add(Dense(128, activation='relu'))\n",
    "model.add(Dropout(dropout))\n",
    "model.add(Dense(num_classes, activation='softmax'))\n",
    "\n",
    "model.summary()"
   ]
  },
  {
   "cell_type": "code",
   "execution_count": 8,
   "metadata": {},
   "outputs": [
    {
     "name": "stdout",
     "output_type": "stream",
     "text": [
      "Train on 60000 samples, validate on 10000 samples\n",
      "Epoch 1/20\n",
      "60000/60000 [==============================] - 24s 399us/sample - loss: 0.2317 - accuracy: 0.9296 - val_loss: 0.0490 - val_accuracy: 0.9846\n",
      "Epoch 2/20\n",
      "60000/60000 [==============================] - 12s 196us/sample - loss: 0.0840 - accuracy: 0.9753 - val_loss: 0.0362 - val_accuracy: 0.9877\n",
      "Epoch 3/20\n",
      "60000/60000 [==============================] - 12s 197us/sample - loss: 0.0631 - accuracy: 0.9813 - val_loss: 0.0370 - val_accuracy: 0.9877\n",
      "Epoch 4/20\n",
      "60000/60000 [==============================] - 12s 202us/sample - loss: 0.0516 - accuracy: 0.9844 - val_loss: 0.0309 - val_accuracy: 0.9892\n",
      "Epoch 5/20\n",
      "60000/60000 [==============================] - 12s 201us/sample - loss: 0.0427 - accuracy: 0.9865 - val_loss: 0.0276 - val_accuracy: 0.9910\n",
      "Epoch 6/20\n",
      "60000/60000 [==============================] - 12s 201us/sample - loss: 0.0376 - accuracy: 0.9886 - val_loss: 0.0260 - val_accuracy: 0.9911\n",
      "Epoch 7/20\n",
      "60000/60000 [==============================] - 12s 207us/sample - loss: 0.0330 - accuracy: 0.9897 - val_loss: 0.0259 - val_accuracy: 0.9921\n",
      "Epoch 8/20\n",
      "60000/60000 [==============================] - 12s 207us/sample - loss: 0.0296 - accuracy: 0.9900 - val_loss: 0.0266 - val_accuracy: 0.9919\n",
      "Epoch 9/20\n",
      "60000/60000 [==============================] - 12s 201us/sample - loss: 0.0294 - accuracy: 0.9905 - val_loss: 0.0259 - val_accuracy: 0.9922\n",
      "Epoch 10/20\n",
      "60000/60000 [==============================] - 13s 215us/sample - loss: 0.0243 - accuracy: 0.9922 - val_loss: 0.0276 - val_accuracy: 0.9910\n",
      "Epoch 11/20\n",
      "60000/60000 [==============================] - 13s 212us/sample - loss: 0.0232 - accuracy: 0.9923 - val_loss: 0.0235 - val_accuracy: 0.9930\n",
      "Epoch 12/20\n",
      "60000/60000 [==============================] - 12s 206us/sample - loss: 0.0203 - accuracy: 0.9936 - val_loss: 0.0270 - val_accuracy: 0.9923\n",
      "Epoch 13/20\n",
      "60000/60000 [==============================] - 12s 192us/sample - loss: 0.0197 - accuracy: 0.9933 - val_loss: 0.0257 - val_accuracy: 0.9924\n",
      "Epoch 14/20\n",
      "60000/60000 [==============================] - 12s 202us/sample - loss: 0.0188 - accuracy: 0.9937 - val_loss: 0.0242 - val_accuracy: 0.9929\n",
      "Epoch 15/20\n",
      "60000/60000 [==============================] - 16s 260us/sample - loss: 0.0168 - accuracy: 0.9941 - val_loss: 0.0274 - val_accuracy: 0.9921\n",
      "Epoch 16/20\n",
      "60000/60000 [==============================] - 12s 197us/sample - loss: 0.0161 - accuracy: 0.9944 - val_loss: 0.0270 - val_accuracy: 0.9921\n",
      "Epoch 17/20\n",
      "60000/60000 [==============================] - 12s 197us/sample - loss: 0.0168 - accuracy: 0.9941 - val_loss: 0.0303 - val_accuracy: 0.9925\n",
      "Epoch 18/20\n",
      "60000/60000 [==============================] - 12s 203us/sample - loss: 0.0137 - accuracy: 0.9954 - val_loss: 0.0292 - val_accuracy: 0.9923\n",
      "Epoch 19/20\n",
      "60000/60000 [==============================] - 12s 200us/sample - loss: 0.0144 - accuracy: 0.9952 - val_loss: 0.0317 - val_accuracy: 0.9928\n",
      "Epoch 20/20\n",
      "60000/60000 [==============================] - 12s 205us/sample - loss: 0.0124 - accuracy: 0.9955 - val_loss: 0.0334 - val_accuracy: 0.9925\n",
      "Test loss: 0.03343713169852929\n",
      "Test accuracy: 0.9925\n"
     ]
    },
    {
     "data": {
      "image/png": "[encoded data removed]",
      "text/plain": [
       "<Figure size 432x288 with 1 Axes>"
      ]
     },
     "metadata": {
      "needs_background": "light"
     },
     "output_type": "display_data"
    }
   ],
   "source": [
    "model.compile(loss='sparse_categorical_crossentropy', optimizer=Adam(), metrics=['accuracy'])\n",
    "\n",
    "history = model.fit(x_train, y_train, batch_size=batch_size, epochs=epochs, verbose=1, validation_data=(x_test, y_test))\n",
    "\n",
    "score = model.evaluate(x_test, y_test, verbose=0)\n",
    "print('Test loss:', score[0])\n",
    "print('Test accuracy:', score[1])\n",
    "\n",
    "plt.plot(history.history['accuracy'])\n",
    "plt.plot(history.history['val_accuracy'])\n",
    "plt.title('Model accuracy')\n",
    "plt.ylabel('Accuracy')\n",
    "plt.xlabel('Epoch')\n",
    "plt.legend(['Train', 'Test'], loc='upper left')\n",
    "plt.show()"
   ]
  },
  {
   "cell_type": "code",
   "execution_count": 9,
   "metadata": {},
   "outputs": [],
   "source": [
    "predictions = model.predict(x_test)\n",
    "most_likely = predictions.argmax(1)"
   ]
  },
  {
   "cell_type": "code",
   "execution_count": 11,
   "metadata": {},
   "outputs": [
    {
     "data": {
      "image/png": "[encoded data removed]",
      "text/plain": [
       "<Figure size 432x288 with 1 Axes>"
      ]
     },
     "metadata": {
      "needs_background": "light"
     },
     "output_type": "display_data"
    }
   ],
   "source": [
    "index = random.randrange(10000)\n",
    "plt.title('Prediction: %d, label: %d' % (most_likely[index], y_test[index]))\n",
    "plt.imshow(original_test[index], cmap='gray')\n",
    "plt.show()"
   ]
  },
  {
   "cell_type": "code",
   "execution_count": 14,
   "metadata": {},
   "outputs": [
    {
     "data": {
      "image/png": "[encoded data removed]",
      "text/plain": [
       "<Figure size 432x288 with 1 Axes>"
      ]
     },
     "metadata": {
      "needs_background": "light"
     },
     "output_type": "display_data"
    },
    {
     "data": {
      "image/png": "[encoded data removed]",
      "text/plain": [
       "<Figure size 432x288 with 1 Axes>"
      ]
     },
     "metadata": {
      "needs_background": "light"
     },
     "output_type": "display_data"
    }
   ],
   "source": [
    "\n",
    "for i in range(10000):\n",
    "    index = random.randrange(10000)\n",
    "    if most_likely[index] != y_test[index]:\n",
    "        break\n",
    "\n",
    "plt.imshow(original_test[index], cmap='gray')\n",
    "plt.title('Prediction: %d, label: %d' % (most_likely[index], y_test[index]))\n",
    "plt.show()\n",
    "\n",
    "plt.bar(range(10), predictions[index], tick_label=range(10))\n",
    "plt.title('Prediction values')\n",
    "plt.show()"
   ]
  },
  {
   "cell_type": "code",
   "execution_count": 15,
   "metadata": {},
   "outputs": [
    {
     "name": "stdout",
     "output_type": "stream",
     "text": [
      "Error rate: 0.75 %\n"
     ]
    }
   ],
   "source": [
    "total = 0.0\n",
    "misclassified = 0.0\n",
    "for i in range(10000):\n",
    "    total += 1\n",
    "    if most_likely[i] != y_test[i]:\n",
    "        misclassified += 1\n",
    "print('Error rate: %.2f %%' % (100.0*misclassified/total))"
   ]
  },
  {
   "cell_type": "code",
   "execution_count": null,
   "metadata": {},
   "outputs": [],
   "source": []
  }
 ],
 "metadata": {
  "kernelspec": {
   "display_name": "gputest",
   "language": "python",
   "name": "gputest"
  },
  "language_info": {
   "codemirror_mode": {
    "name": "ipython",
    "version": 3
   },
   "file_extension": ".py",
   "mimetype": "text/x-python",
   "name": "python",
   "nbconvert_exporter": "python",
   "pygments_lexer": "ipython3",
   "version": "3.7.6"
  }
 },
 "nbformat": 4,
 "nbformat_minor": 4
}
